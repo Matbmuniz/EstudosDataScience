{
 "cells": [
  {
   "cell_type": "markdown",
   "id": "fa26797b",
   "metadata": {},
   "source": [
    "Quanto é 7 elevado na potencia 4?"
   ]
  },
  {
   "cell_type": "code",
   "execution_count": 1,
   "id": "9a15edc4",
   "metadata": {},
   "outputs": [
    {
     "data": {
      "text/plain": [
       "2401"
      ]
     },
     "execution_count": 1,
     "metadata": {},
     "output_type": "execute_result"
    }
   ],
   "source": [
    "7**4"
   ]
  },
  {
   "cell_type": "markdown",
   "id": "37d26a02",
   "metadata": {},
   "source": [
    "    quebre a seguinte string em uma lista:"
   ]
  },
  {
   "cell_type": "code",
   "execution_count": 8,
   "id": "e4a6d8ac",
   "metadata": {},
   "outputs": [
    {
     "data": {
      "text/plain": [
       "['Olá,', 'Pai!']"
      ]
     },
     "execution_count": 8,
     "metadata": {},
     "output_type": "execute_result"
    }
   ],
   "source": [
    "s = \"Olá, Pai!\"\n",
    "s.split()"
   ]
  },
  {
   "cell_type": "code",
   "execution_count": 7,
   "id": "91b86bbb",
   "metadata": {},
   "outputs": [
    {
     "name": "stdout",
     "output_type": "stream",
     "text": [
      "O diametro da Terra é de 12742 kilometros\n"
     ]
    }
   ],
   "source": [
    "planeta = \"Terra\"\n",
    "diametro = 12742\n",
    "print(\"O diametro da {0} é de {1} kilometros\".format(planeta, diametro))"
   ]
  },
  {
   "cell_type": "code",
   "execution_count": 2,
   "id": "c757632d",
   "metadata": {},
   "outputs": [],
   "source": [
    "lst = [1,2,[3,4],[5,[100,200,['olá']],23,11],1,7]"
   ]
  },
  {
   "cell_type": "code",
   "execution_count": 9,
   "id": "2f971a7f",
   "metadata": {},
   "outputs": [
    {
     "data": {
      "text/plain": [
       "'olá'"
      ]
     },
     "execution_count": 9,
     "metadata": {},
     "output_type": "execute_result"
    }
   ],
   "source": [
    "lst[3][1][2][0]"
   ]
  },
  {
   "cell_type": "code",
   "execution_count": 10,
   "id": "5d9901ee",
   "metadata": {},
   "outputs": [],
   "source": [
    "def obterDominio(email):\n",
    "    saida = email.split('@')[-1]\n",
    "    return saida"
   ]
  },
  {
   "cell_type": "code",
   "execution_count": 11,
   "id": "5e945b46",
   "metadata": {},
   "outputs": [
    {
     "data": {
      "text/plain": [
       "'domain.com'"
      ]
     },
     "execution_count": 11,
     "metadata": {},
     "output_type": "execute_result"
    }
   ],
   "source": [
    "obterDominio('user@domain.com')"
   ]
  },
  {
   "cell_type": "code",
   "execution_count": 12,
   "id": "61a1e3a9",
   "metadata": {},
   "outputs": [],
   "source": [
    "def encontreCachorro(string):\n",
    "    return 'cachorro' in string.lower()"
   ]
  },
  {
   "cell_type": "code",
   "execution_count": 13,
   "id": "dcee197a",
   "metadata": {},
   "outputs": [
    {
     "data": {
      "text/plain": [
       "True"
      ]
     },
     "execution_count": 13,
     "metadata": {},
     "output_type": "execute_result"
    }
   ],
   "source": [
    "encontreCachorro('Existe um cachorro ai?')"
   ]
  },
  {
   "cell_type": "code",
   "execution_count": 21,
   "id": "1deae561",
   "metadata": {},
   "outputs": [],
   "source": [
    "def contaCachorro(string):\n",
    "    cont = 0\n",
    "    for palavra in string.lower().split():\n",
    "        if palavra == \"cachorro\":\n",
    "            cont = cont + 1\n",
    "    return cont"
   ]
  },
  {
   "cell_type": "code",
   "execution_count": 22,
   "id": "73858e41",
   "metadata": {},
   "outputs": [
    {
     "data": {
      "text/plain": [
       "2"
      ]
     },
     "execution_count": 22,
     "metadata": {},
     "output_type": "execute_result"
    }
   ],
   "source": [
    "contaCachorro('Esse cachorro é mais rapido que o outro cachorro')"
   ]
  },
  {
   "cell_type": "code",
   "execution_count": 26,
   "id": "c672859e",
   "metadata": {},
   "outputs": [
    {
     "data": {
      "text/plain": [
       "<filter at 0x1ba8f5f3460>"
      ]
     },
     "execution_count": 26,
     "metadata": {},
     "output_type": "execute_result"
    }
   ],
   "source": [
    "filter(lambda word:word[0]=='s', seq)"
   ]
  },
  {
   "cell_type": "code",
   "execution_count": 29,
   "id": "1680d0ef",
   "metadata": {},
   "outputs": [],
   "source": [
    "seq = ['sopa','cachorro','salada','gato','otimo']"
   ]
  },
  {
   "cell_type": "code",
   "execution_count": 30,
   "id": "28429c13",
   "metadata": {},
   "outputs": [
    {
     "data": {
      "text/plain": [
       "['sopa', 'cachorro', 'salada', 'gato', 'otimo']"
      ]
     },
     "execution_count": 30,
     "metadata": {},
     "output_type": "execute_result"
    }
   ],
   "source": [
    "seq"
   ]
  },
  {
   "cell_type": "code",
   "execution_count": 32,
   "id": "1b5cced4",
   "metadata": {},
   "outputs": [
    {
     "data": {
      "text/plain": [
       "['sopa', 'salada']"
      ]
     },
     "execution_count": 32,
     "metadata": {},
     "output_type": "execute_result"
    }
   ],
   "source": [
    "list(filter(lambda word:word[0]=='s', seq))"
   ]
  },
  {
   "cell_type": "code",
   "execution_count": 33,
   "id": "5eb72cd1",
   "metadata": {},
   "outputs": [],
   "source": [
    "def capturar_vel(speed, is_birthday):\n",
    "    if is_birthday:\n",
    "        speed = speed - 5\n",
    "        \n",
    "    if speed > 80:\n",
    "        return 'Multa Grande'\n",
    "    if speed > 60:\n",
    "        return 'Multa Pequena'\n",
    "    else:\n",
    "        return 'Sem multa'\n",
    "    pass"
   ]
  },
  {
   "cell_type": "code",
   "execution_count": 35,
   "id": "cb232285",
   "metadata": {},
   "outputs": [
    {
     "data": {
      "text/plain": [
       "'Multa Pequena'"
      ]
     },
     "execution_count": 35,
     "metadata": {},
     "output_type": "execute_result"
    }
   ],
   "source": [
    "capturar_vel(65,False)"
   ]
  },
  {
   "cell_type": "code",
   "execution_count": 36,
   "id": "884ca275",
   "metadata": {},
   "outputs": [
    {
     "data": {
      "text/plain": [
       "'Sem multa'"
      ]
     },
     "execution_count": 36,
     "metadata": {},
     "output_type": "execute_result"
    }
   ],
   "source": [
    "capturar_vel(65,True)"
   ]
  }
 ],
 "metadata": {
  "kernelspec": {
   "display_name": "Python 3",
   "language": "python",
   "name": "python3"
  },
  "language_info": {
   "codemirror_mode": {
    "name": "ipython",
    "version": 3
   },
   "file_extension": ".py",
   "mimetype": "text/x-python",
   "name": "python",
   "nbconvert_exporter": "python",
   "pygments_lexer": "ipython3",
   "version": "3.8.8"
  }
 },
 "nbformat": 4,
 "nbformat_minor": 5
}
